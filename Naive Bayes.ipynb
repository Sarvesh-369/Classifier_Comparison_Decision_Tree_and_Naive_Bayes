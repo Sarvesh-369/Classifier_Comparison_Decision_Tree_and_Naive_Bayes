{
 "cells": [
  {
   "cell_type": "markdown",
   "metadata": {},
   "source": [
    "# Naive Bayes and Decision Trees"
   ]
  },
  {
   "cell_type": "code",
   "execution_count": 1,
   "metadata": {},
   "outputs": [],
   "source": [
    "# Import the libraries\n",
    "from math import log\n",
    "\n",
    "import pandas as pd\n",
    "import numpy as np\n",
    "from matplotlib import pyplot as plt"
   ]
  },
  {
   "cell_type": "markdown",
   "metadata": {},
   "source": [
    "# Naive Bayes Classification"
   ]
  },
  {
   "cell_type": "markdown",
   "metadata": {},
   "source": [
    "## Data Preprocessing"
   ]
  },
  {
   "cell_type": "markdown",
   "metadata": {},
   "source": [
    "Let's first load the training dataset into a pandas dataframe"
   ]
  },
  {
   "cell_type": "code",
   "execution_count": 2,
   "metadata": {},
   "outputs": [
    {
     "data": {
      "text/html": [
       "<div>\n",
       "<style scoped>\n",
       "    .dataframe tbody tr th:only-of-type {\n",
       "        vertical-align: middle;\n",
       "    }\n",
       "\n",
       "    .dataframe tbody tr th {\n",
       "        vertical-align: top;\n",
       "    }\n",
       "\n",
       "    .dataframe thead th {\n",
       "        text-align: right;\n",
       "    }\n",
       "</style>\n",
       "<table border=\"1\" class=\"dataframe\">\n",
       "  <thead>\n",
       "    <tr style=\"text-align: right;\">\n",
       "      <th></th>\n",
       "      <th>Buying Price</th>\n",
       "      <th>Maintenance Price</th>\n",
       "      <th>Number of Doors</th>\n",
       "      <th>Capacity</th>\n",
       "      <th>Size of Luggage Boot</th>\n",
       "      <th>Estimated Safety</th>\n",
       "      <th>Decision</th>\n",
       "    </tr>\n",
       "  </thead>\n",
       "  <tbody>\n",
       "    <tr>\n",
       "      <th>0</th>\n",
       "      <td>low</td>\n",
       "      <td>low</td>\n",
       "      <td>3</td>\n",
       "      <td>2</td>\n",
       "      <td>small</td>\n",
       "      <td>high</td>\n",
       "      <td>unacc</td>\n",
       "    </tr>\n",
       "    <tr>\n",
       "      <th>1</th>\n",
       "      <td>low</td>\n",
       "      <td>high</td>\n",
       "      <td>4</td>\n",
       "      <td>2</td>\n",
       "      <td>big</td>\n",
       "      <td>high</td>\n",
       "      <td>unacc</td>\n",
       "    </tr>\n",
       "    <tr>\n",
       "      <th>2</th>\n",
       "      <td>vhigh</td>\n",
       "      <td>low</td>\n",
       "      <td>3</td>\n",
       "      <td>4</td>\n",
       "      <td>small</td>\n",
       "      <td>high</td>\n",
       "      <td>acc</td>\n",
       "    </tr>\n",
       "    <tr>\n",
       "      <th>3</th>\n",
       "      <td>vhigh</td>\n",
       "      <td>med</td>\n",
       "      <td>5more</td>\n",
       "      <td>more</td>\n",
       "      <td>small</td>\n",
       "      <td>med</td>\n",
       "      <td>unacc</td>\n",
       "    </tr>\n",
       "    <tr>\n",
       "      <th>4</th>\n",
       "      <td>low</td>\n",
       "      <td>vhigh</td>\n",
       "      <td>4</td>\n",
       "      <td>more</td>\n",
       "      <td>med</td>\n",
       "      <td>high</td>\n",
       "      <td>acc</td>\n",
       "    </tr>\n",
       "  </tbody>\n",
       "</table>\n",
       "</div>"
      ],
      "text/plain": [
       "  Buying Price Maintenance Price Number of Doors Capacity  \\\n",
       "0          low               low               3        2   \n",
       "1          low              high               4        2   \n",
       "2        vhigh               low               3        4   \n",
       "3        vhigh               med           5more     more   \n",
       "4          low             vhigh               4     more   \n",
       "\n",
       "  Size of Luggage Boot Estimated Safety Decision  \n",
       "0                small             high    unacc  \n",
       "1                  big             high    unacc  \n",
       "2                small             high      acc  \n",
       "3                small              med    unacc  \n",
       "4                  med             high      acc  "
      ]
     },
     "execution_count": 2,
     "metadata": {},
     "output_type": "execute_result"
    }
   ],
   "source": [
    "df = pd.read_csv('car_train.csv')\n",
    "df.head()"
   ]
  },
  {
   "cell_type": "markdown",
   "metadata": {},
   "source": [
    "Here we have 6 different features and a `Decision` target variable."
   ]
  },
  {
   "cell_type": "markdown",
   "metadata": {},
   "source": [
    "So every single feature here is a categorical feature. Let's try to see which all are the unique values in each of these features."
   ]
  },
  {
   "cell_type": "code",
   "execution_count": 3,
   "metadata": {},
   "outputs": [
    {
     "data": {
      "text/plain": [
       "Buying Price              [low, vhigh, high, med]\n",
       "Maintenance Price         [low, high, med, vhigh]\n",
       "Number of Doors                  [3, 4, 5more, 2]\n",
       "Capacity                             [2, 4, more]\n",
       "Size of Luggage Boot            [small, big, med]\n",
       "Estimated Safety                 [high, med, low]\n",
       "Decision                [unacc, acc, vgood, good]\n",
       "dtype: object"
      ]
     },
     "execution_count": 3,
     "metadata": {},
     "output_type": "execute_result"
    }
   ],
   "source": [
    "df.copy().apply(lambda x: x.unique())"
   ]
  },
  {
   "cell_type": "code",
   "execution_count": 4,
   "metadata": {},
   "outputs": [],
   "source": [
    "# We'll convert this to a dictionary for later usage\n",
    "unique_values = df.copy().apply(lambda x: x.unique()).to_dict()\n",
    "unique_values = {k: v.tolist() for k, v in unique_values.items()}"
   ]
  },
  {
   "cell_type": "code",
   "execution_count": 5,
   "metadata": {},
   "outputs": [
    {
     "data": {
      "text/plain": [
       "{'Buying Price': ['low', 'vhigh', 'high', 'med'],\n",
       " 'Maintenance Price': ['low', 'high', 'med', 'vhigh'],\n",
       " 'Number of Doors': ['3', '4', '5more', '2'],\n",
       " 'Capacity': ['2', '4', 'more'],\n",
       " 'Size of Luggage Boot': ['small', 'big', 'med'],\n",
       " 'Estimated Safety': ['high', 'med', 'low'],\n",
       " 'Decision': ['unacc', 'acc', 'vgood', 'good']}"
      ]
     },
     "execution_count": 5,
     "metadata": {},
     "output_type": "execute_result"
    }
   ],
   "source": [
    "# Following is the form of the dictionary\n",
    "unique_values"
   ]
  },
  {
   "cell_type": "markdown",
   "metadata": {},
   "source": [
    "## Calculate the Prior and Likelihood values"
   ]
  },
  {
   "cell_type": "code",
   "execution_count": 6,
   "metadata": {},
   "outputs": [],
   "source": [
    "# You can do this in a single line\n",
    "\n",
    "prior_list = df['Decision'].value_counts(normalize=True).tolist()"
   ]
  },
  {
   "cell_type": "code",
   "execution_count": 7,
   "metadata": {},
   "outputs": [
    {
     "data": {
      "text/html": [
       "<div>\n",
       "<style scoped>\n",
       "    .dataframe tbody tr th:only-of-type {\n",
       "        vertical-align: middle;\n",
       "    }\n",
       "\n",
       "    .dataframe tbody tr th {\n",
       "        vertical-align: top;\n",
       "    }\n",
       "\n",
       "    .dataframe thead th {\n",
       "        text-align: right;\n",
       "    }\n",
       "</style>\n",
       "<table border=\"1\" class=\"dataframe\">\n",
       "  <thead>\n",
       "    <tr style=\"text-align: right;\">\n",
       "      <th></th>\n",
       "      <th>Prior</th>\n",
       "    </tr>\n",
       "  </thead>\n",
       "  <tbody>\n",
       "    <tr>\n",
       "      <th>acc</th>\n",
       "      <td>0.702390</td>\n",
       "    </tr>\n",
       "    <tr>\n",
       "      <th>unacc</th>\n",
       "      <td>0.222303</td>\n",
       "    </tr>\n",
       "    <tr>\n",
       "      <th>good</th>\n",
       "      <td>0.039826</td>\n",
       "    </tr>\n",
       "    <tr>\n",
       "      <th>vgood</th>\n",
       "      <td>0.035482</td>\n",
       "    </tr>\n",
       "  </tbody>\n",
       "</table>\n",
       "</div>"
      ],
      "text/plain": [
       "          Prior\n",
       "acc    0.702390\n",
       "unacc  0.222303\n",
       "good   0.039826\n",
       "vgood  0.035482"
      ]
     },
     "execution_count": 7,
     "metadata": {},
     "output_type": "execute_result"
    }
   ],
   "source": [
    "# Let's convert this prior list to a pandas dataframe\n",
    "prior_df = pd.DataFrame(prior_list, index=['acc', 'unacc', 'good', 'vgood'], columns=['Prior'])\n",
    "prior_df"
   ]
  },
  {
   "cell_type": "markdown",
   "metadata": {},
   "source": [
    "### **Likelihood Probabilities $P(X|Y)$**"
   ]
  },
  {
   "cell_type": "code",
   "execution_count": 8,
   "metadata": {},
   "outputs": [],
   "source": [
    "likelihood_feature_1 = df.groupby(['Decision', 'Buying Price']).size().unstack().fillna(0).apply(lambda x: x / x.sum(), axis=1)\n",
    "likelihood_feature_2 = df.groupby(['Decision', 'Maintenance Price']).size().unstack().fillna(0).apply(lambda x: x / x.sum(), axis=1)\n",
    "likelihood_feature_3 = df.groupby(['Decision', 'Number of Doors']).size().unstack().fillna(0).apply(lambda x: x / x.sum(), axis=1)\n",
    "likelihood_feature_4 = df.groupby(['Decision', 'Capacity']).size().unstack().fillna(0).apply(lambda x: x / x.sum(), axis=1)\n",
    "likelihood_feature_5 = df.groupby(['Decision', 'Size of Luggage Boot']).size().unstack().fillna(0).apply(lambda x: x / x.sum(), axis=1)\n",
    "likelihood_feature_6 = df.groupby(['Decision', 'Estimated Safety']).size().unstack().fillna(0).apply(lambda x: x / x.sum(), axis=1)"
   ]
  },
  {
   "cell_type": "markdown",
   "metadata": {},
   "source": [
    "## Prediction on test set"
   ]
  },
  {
   "cell_type": "markdown",
   "metadata": {},
   "source": [
    "### **Calculation of Posterior Probabilities $P(Y|X)$**"
   ]
  },
  {
   "cell_type": "code",
   "execution_count": 9,
   "metadata": {},
   "outputs": [
    {
     "name": "stdout",
     "output_type": "stream",
     "text": [
      "The Log Posterior for class `unacc` is: -9.580\n"
     ]
    }
   ],
   "source": [
    "# Let's store the log prior\n",
    "\n",
    "features = ['low', 'vhigh', '2', 'more', 'med', 'high']\n",
    "\n",
    "log_prior = log(prior_df.loc['unacc', 'Prior'])\n",
    "\n",
    "log_likelihood = 0\n",
    "\n",
    "for i, feature in enumerate(features):\n",
    "    log_likelihood += log(eval(f'likelihood_feature_{i+1}').loc['unacc', feature] + 1e-9) # Add the 1e-9 to avoid taking log(0)\n",
    "\n",
    "log_posterior = log_prior + log_likelihood\n",
    "\n",
    "print(f'The Log Posterior for class `unacc` is: {log_posterior:.3f}')\n",
    "\n"
   ]
  },
  {
   "cell_type": "code",
   "execution_count": 10,
   "metadata": {},
   "outputs": [],
   "source": [
    "def get_log_posterior(class_name: str, features: list):\n",
    "    \"\"\"Returns the log posterior for the class name given the features\n",
    "    \"\"\"\n",
    "\n",
    "    log_prior = log(prior_df.loc[class_name, 'Prior'])\n",
    "\n",
    "    log_likelihood = 0\n",
    "\n",
    "    for i, feature in enumerate(features):\n",
    "        log_likelihood += log(eval(f'likelihood_feature_{i+1}').loc[class_name, feature] + 1e-9) # Add the 1e-9 to avoid taking log(0)\n",
    "\n",
    "    log_posterior = log_prior + log_likelihood\n",
    "\n",
    "    return log_posterior"
   ]
  },
  {
   "cell_type": "markdown",
   "metadata": {},
   "source": [
    "Based on the log-posterior, predict what the decision is"
   ]
  },
  {
   "cell_type": "code",
   "execution_count": 11,
   "metadata": {},
   "outputs": [
    {
     "name": "stdout",
     "output_type": "stream",
     "text": [
      "The Log Posterior for class `unacc` is: -9.580\n",
      "The Log Posterior for class `acc` is: -7.718\n",
      "The Log Posterior for class `good` is: -28.705\n",
      "The Log Posterior for class `vgood` is: -27.708\n",
      "The predicted class is: acc\n"
     ]
    }
   ],
   "source": [
    "log_posterior_unacc = get_log_posterior('unacc', features)\n",
    "log_posterior_acc = get_log_posterior('acc', features)\n",
    "log_posterior_good = get_log_posterior('good', features)\n",
    "log_posterior_vgood = get_log_posterior('vgood', features)\n",
    "\n",
    "print(f'The Log Posterior for class `unacc` is: {log_posterior_unacc:.3f}')\n",
    "print(f'The Log Posterior for class `acc` is: {log_posterior_acc:.3f}')\n",
    "print(f'The Log Posterior for class `good` is: {log_posterior_good:.3f}')\n",
    "print(f'The Log Posterior for class `vgood` is: {log_posterior_vgood:.3f}')\n",
    "\n",
    "max_posterior = max(log_posterior_unacc, log_posterior_acc, log_posterior_good, log_posterior_vgood)\n",
    "\n",
    "if max_posterior == log_posterior_unacc:\n",
    "    pred = 'unacc'\n",
    "elif max_posterior == log_posterior_acc:\n",
    "    pred = 'acc'\n",
    "elif max_posterior == log_posterior_good:\n",
    "    pred = 'good'\n",
    "else:\n",
    "    pred = 'vgood'\n",
    "\n",
    "print(f'The predicted class is: {pred}')"
   ]
  },
  {
   "cell_type": "markdown",
   "metadata": {},
   "source": [
    "### Prediction with Test set"
   ]
  },
  {
   "cell_type": "code",
   "execution_count": 12,
   "metadata": {},
   "outputs": [
    {
     "data": {
      "text/html": [
       "<div>\n",
       "<style scoped>\n",
       "    .dataframe tbody tr th:only-of-type {\n",
       "        vertical-align: middle;\n",
       "    }\n",
       "\n",
       "    .dataframe tbody tr th {\n",
       "        vertical-align: top;\n",
       "    }\n",
       "\n",
       "    .dataframe thead th {\n",
       "        text-align: right;\n",
       "    }\n",
       "</style>\n",
       "<table border=\"1\" class=\"dataframe\">\n",
       "  <thead>\n",
       "    <tr style=\"text-align: right;\">\n",
       "      <th></th>\n",
       "      <th>Buying Price</th>\n",
       "      <th>Maintenance Price</th>\n",
       "      <th>Number of Doors</th>\n",
       "      <th>Capacity</th>\n",
       "      <th>Size of Luggage Boot</th>\n",
       "      <th>Estimated Safety</th>\n",
       "      <th>Decision</th>\n",
       "    </tr>\n",
       "  </thead>\n",
       "  <tbody>\n",
       "    <tr>\n",
       "      <th>0</th>\n",
       "      <td>low</td>\n",
       "      <td>vhigh</td>\n",
       "      <td>2</td>\n",
       "      <td>more</td>\n",
       "      <td>med</td>\n",
       "      <td>high</td>\n",
       "      <td>acc</td>\n",
       "    </tr>\n",
       "    <tr>\n",
       "      <th>1</th>\n",
       "      <td>vhigh</td>\n",
       "      <td>high</td>\n",
       "      <td>2</td>\n",
       "      <td>4</td>\n",
       "      <td>big</td>\n",
       "      <td>high</td>\n",
       "      <td>unacc</td>\n",
       "    </tr>\n",
       "    <tr>\n",
       "      <th>2</th>\n",
       "      <td>high</td>\n",
       "      <td>med</td>\n",
       "      <td>2</td>\n",
       "      <td>2</td>\n",
       "      <td>small</td>\n",
       "      <td>med</td>\n",
       "      <td>unacc</td>\n",
       "    </tr>\n",
       "    <tr>\n",
       "      <th>3</th>\n",
       "      <td>vhigh</td>\n",
       "      <td>med</td>\n",
       "      <td>3</td>\n",
       "      <td>2</td>\n",
       "      <td>big</td>\n",
       "      <td>med</td>\n",
       "      <td>unacc</td>\n",
       "    </tr>\n",
       "    <tr>\n",
       "      <th>4</th>\n",
       "      <td>low</td>\n",
       "      <td>med</td>\n",
       "      <td>5more</td>\n",
       "      <td>2</td>\n",
       "      <td>big</td>\n",
       "      <td>low</td>\n",
       "      <td>unacc</td>\n",
       "    </tr>\n",
       "  </tbody>\n",
       "</table>\n",
       "</div>"
      ],
      "text/plain": [
       "  Buying Price Maintenance Price Number of Doors Capacity  \\\n",
       "0          low             vhigh               2     more   \n",
       "1        vhigh              high               2        4   \n",
       "2         high               med               2        2   \n",
       "3        vhigh               med               3        2   \n",
       "4          low               med           5more        2   \n",
       "\n",
       "  Size of Luggage Boot Estimated Safety Decision  \n",
       "0                  med             high      acc  \n",
       "1                  big             high    unacc  \n",
       "2                small              med    unacc  \n",
       "3                  big              med    unacc  \n",
       "4                  big              low    unacc  "
      ]
     },
     "execution_count": 12,
     "metadata": {},
     "output_type": "execute_result"
    }
   ],
   "source": [
    "df_test = pd.read_csv('car_test.csv')\n",
    "df_test.head()"
   ]
  },
  {
   "cell_type": "markdown",
   "metadata": {},
   "source": [
    "Split the dataframe into features and target"
   ]
  },
  {
   "cell_type": "code",
   "execution_count": 13,
   "metadata": {},
   "outputs": [],
   "source": [
    "df_x = df_test.drop('Decision', axis=1)\n",
    "df_y = df_test['Decision']"
   ]
  },
  {
   "cell_type": "markdown",
   "metadata": {},
   "source": [
    "Now using the features in `df_x`, predict the `Decision` using in the same way as above"
   ]
  },
  {
   "cell_type": "code",
   "execution_count": 14,
   "metadata": {},
   "outputs": [],
   "source": [
    "predictions = []\n",
    "\n",
    "for _, row in df_x.iterrows():\n",
    "    features = list(row)\n",
    "    \n",
    "    class_names = ['unacc', 'acc', 'good', 'vgood']\n",
    "    log_posterior_probs = [get_log_posterior(class_name, features) for class_name in class_names]\n",
    "\n",
    "    prediction = class_names[np.argmax(log_posterior_probs)]\n",
    "    predictions.append(prediction)"
   ]
  },
  {
   "cell_type": "code",
   "execution_count": 15,
   "metadata": {},
   "outputs": [
    {
     "name": "stdout",
     "output_type": "stream",
     "text": [
      "Test Accuracy using Naive Bayes Classifier is: 0.7914\n"
     ]
    }
   ],
   "source": [
    "true_values = list(df_y)\n",
    "\n",
    "correct = 0\n",
    "for pred, true_val in zip(predictions, true_values):\n",
    "    if pred == true_val:\n",
    "        correct += 1\n",
    "\n",
    "accuracy = correct / len(true_values)\n",
    "\n",
    "print(f'Test Accuracy using Naive Bayes Classifier is: {accuracy:.4f}')"
   ]
  }
 ],
 "metadata": {
  "kernelspec": {
   "display_name": "Python 3",
   "language": "python",
   "name": "python3"
  },
  "language_info": {
   "codemirror_mode": {
    "name": "ipython",
    "version": 3
   },
   "file_extension": ".py",
   "mimetype": "text/x-python",
   "name": "python",
   "nbconvert_exporter": "python",
   "pygments_lexer": "ipython3",
   "version": "3.10.12"
  },
  "orig_nbformat": 4
 },
 "nbformat": 4,
 "nbformat_minor": 2
}
